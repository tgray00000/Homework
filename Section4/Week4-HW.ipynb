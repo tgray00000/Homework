{
 "cells": [
  {
   "cell_type": "code",
   "execution_count": null,
   "metadata": {},
   "outputs": [],
   "source": [
    "#1 Create an if statement\n",
    "age = 15\n",
    "if age >= 25:\n",
    "    print(\"Renting a car is more affordable\")\n",
    "else:\n",
    "    print(\"Renting a car is very expensive\")\n",
    "\n",
    "#2 Create and chain if -else\n",
    "if age >= 25:\n",
    "     print(\"Renting a car is more affordable\")\n",
    "elif age >= 18 <= 25:\n",
    "    print(\"Renting a car is very expensive\")\n",
    "else:\n",
    "    print(\"You cannot legally rent a car\")\n",
    "\n"
   ]
  },
  {
   "cell_type": "code",
   "execution_count": 1,
   "metadata": {},
   "outputs": [
    {
     "name": "stdout",
     "output_type": "stream",
     "text": [
      "Total characters: 37\n",
      "Vowels: a, e, i, o, u\n"
     ]
    }
   ],
   "source": [
    "#3. Loop over the  string to (1) count all the characters in the string and \n",
    "string1 = \"The quick fox jumps over the lazy dog\"\n",
    "count = 0\n",
    "for char in string1:\n",
    "    count += 1\n",
    "print(\"Total characters:\", count)\n",
    "#Print out the vowels\n",
    "vowels = \"a, e, i, o, u\"\n",
    "for char in string1:\n",
    "    count += 1\n",
    "print(\"Vowels:\", vowels )"
   ]
  },
  {
   "cell_type": "code",
   "execution_count": null,
   "metadata": {},
   "outputs": [],
   "source": [
    "#4 Wrtie an nested loop that prints out every piece of clothing from couture and pannettone\n",
    "couture = [\"trousers\", \"blouse\", \"bandana\", \"cumber band\", \"blazer\", \"vest\", \"french beret\", \"scarf\", \"stole\"]\n",
    "panettone = {\"cerise\", \"fuchisa\", \"aqua\", \"maple\", \"auburn\", \"burnt sienna\", \"gunmetal blue\", \"Dark Sapphire\"}\n",
    "for x in couture:\n",
    "    for y in panettone:\n",
    "        print(x,y)"
   ]
  },
  {
   "cell_type": "code",
   "execution_count": 3,
   "metadata": {},
   "outputs": [
    {
     "name": "stdout",
     "output_type": "stream",
     "text": [
      "The sum is: 5050\n"
     ]
    }
   ],
   "source": [
    "#5. Use range as a loop to calculate the sum of all the numbers from 1 to 100\n",
    "sum =0 \n",
    "for i in range(1, 101):\n",
    "    sum += i\n",
    "print(\"The sum is:\", sum)\n"
   ]
  },
  {
   "cell_type": "code",
   "execution_count": null,
   "metadata": {},
   "outputs": [],
   "source": [
    "#6. Print the second item in this fruits list.\n",
    "Fruit4 =[\"apple\", \"banana\", \"cherry\"]\n",
    "print(Fruit4[1])\n",
    "#7. Change the value from \"apple\" to \"kiwi\", in the fruits list.\n",
    "Fruit4[0] = \"kiwi\"\n",
    "Fruit4\n",
    "\n"
   ]
  },
  {
   "cell_type": "code",
   "execution_count": 100,
   "metadata": {},
   "outputs": [
    {
     "data": {
      "text/plain": [
       "['apple', 'banana', 'cherry', 'orange']"
      ]
     },
     "execution_count": 100,
     "metadata": {},
     "output_type": "execute_result"
    }
   ],
   "source": [
    "#8. Use the append method to add \"orange\" to the fruits list.\n",
    "fruit5 = [\"apple\", \"banana\", \"cherry\"]\n",
    "fruit5.append(\"orange\") \n",
    "fruit5"
   ]
  },
  {
   "cell_type": "code",
   "execution_count": 121,
   "metadata": {},
   "outputs": [
    {
     "data": {
      "text/plain": [
       "['apple', 'banana', 'lemon', 'cherry', 'orange']"
      ]
     },
     "execution_count": 121,
     "metadata": {},
     "output_type": "execute_result"
    }
   ],
   "source": [
    "#9. Use the insert method to add \"lemon\" as the second item in the fruits list.\n",
    "fruit5.insert(2, \"lemon\")\n",
    "#fruit5.remove(\"lemon\") Too many lemons were added\n",
    "fruit5"
   ]
  },
  {
   "cell_type": "code",
   "execution_count": 122,
   "metadata": {},
   "outputs": [
    {
     "data": {
      "text/plain": [
       "['apple', 'lemon', 'cherry', 'orange']"
      ]
     },
     "execution_count": 122,
     "metadata": {},
     "output_type": "execute_result"
    }
   ],
   "source": [
    "#10. Use the remove method to remove \"banana\" from the fruits list.\n",
    "fruit5.remove(\"banana\")\n",
    "fruit5"
   ]
  },
  {
   "cell_type": "code",
   "execution_count": 132,
   "metadata": {},
   "outputs": [
    {
     "name": "stdout",
     "output_type": "stream",
     "text": [
      "['kiwi', 'melon']\n",
      "['cherry', 'orange', 'kiwi']\n",
      "7\n"
     ]
    },
    {
     "data": {
      "text/plain": [
       "['orange', 'melon', 'mango', 'kiwi', 'cherry', 'banana', 'apple']"
      ]
     },
     "execution_count": 132,
     "metadata": {},
     "output_type": "execute_result"
    }
   ],
   "source": [
    "#11. Use negative indexing to print the 3rd and 2nd to last items in the list.\n",
    "fruit6 =[\"apple\", \"banana\", \"cherry\", \"orange\", \"kiwi\", \"melon\", \"mango\"]\n",
    "print(fruit6[-3:-1])\n",
    "\n",
    "#12. Use a range of indexes to print the third, fourth, and fifth item in the list.\n",
    "print(fruit6[2:5])\n",
    "\n",
    "#13. Use the correct syntax to print the number of items in the list.\n",
    "print(len(fruit6))\n",
    "\n",
    "#14. Use the correct syntax to sort this list in reverse order\n",
    "fruit6.sort(reverse=True)\n",
    "fruit6"
   ]
  },
  {
   "attachments": {},
   "cell_type": "markdown",
   "metadata": {},
   "source": [
    "\n",
    "1.What does one need to do to use a module?<br>\n",
    ">Import the respective module into our code-base. \n",
    "2. Name a Module (not the DateTime Nodule) we looked at and write a line or 2 of code as an example using this module. <br>\n",
    ">Phyton Random module<br>\n",
    ">import random<br>\n",
    ">dicethrow=random.randrange(1,21)<br>\n",
    "3. What is a benefit of using Exception handling?<br>\n",
    ">The system wont freak out when an errors occurs.\n",
    "4. what are the 4 components used for Python Exception Handling?<br>\n",
    ">try, except, else, finally\n",
    "5. NumPy arrays are like what Python data type?<br>\n",
    ">Lists\n",
    "6. What is one of the main benefits of using NumPy arrays.<br>\n",
    ">Convenient, Fast, and takes less memory\n",
    "7. What is one of the main requirements about the 'dtype' of NumPy arrays?<br>\n",
    ">Couldn't find\n",
    "8. Of the 10 uses of NumPy, name 2.<br>\n",
    ">Arithmetic operations, stacking\n",
    "9. Name one of the other libraries we'll use with NumPy?<br>\n",
    ">NumPy with Pandas\n",
    "10. What is the shape of NumPy arrays?<br>\n",
    ">tuple\n",
    "11. What is a Tensor?<br>\n",
    ">An array with 3+ dimensions\n",
    "12. Name a reason why it's better using  NumPy for Data Analysis than using a Python List?<br>\n",
    ">NumPy is built for the manipulation of multi-dimensional array data. \n",
    "13. When creating an \"empty\" array, where do the elements come from?<br>\n",
    ">Random data"
   ]
  },
  {
   "cell_type": "code",
   "execution_count": null,
   "metadata": {},
   "outputs": [],
   "source": [
    "#1.Use the DateTime module to get Current Date and Time, and save it to a variable.\n",
    "import datetime as dt\n",
    "#Then extract just the Full month name form that variable.\n",
    "a = dt.date.today()\n",
    "print(\"current Month:\", a.month)"
   ]
  },
  {
   "cell_type": "code",
   "execution_count": 14,
   "metadata": {},
   "outputs": [
    {
     "name": "stdout",
     "output_type": "stream",
     "text": [
      "Sup Ti! Happy Friday!\n",
      "None\n",
      "Sup Leroy Jenkins! Happy Sunday!\n",
      "None\n"
     ]
    }
   ],
   "source": [
    "# Write a simple function that take 2 parameters:\n",
    "def greet(fname, day_name = \"Sunday\"):\n",
    "     print(f\"Sup {fname}! Happy {day_name}!\")\n",
    "# Invoke this function with 2 variables\n",
    "print(greet(\"Ti\", \"Friday\"))\n",
    "# Invoke this function with 1 variable only\n",
    "print(greet(\"Leroy Jenkins\"))"
   ]
  },
  {
   "cell_type": "code",
   "execution_count": 11,
   "metadata": {},
   "outputs": [
    {
     "name": "stdout",
     "output_type": "stream",
     "text": [
      "Hello\n",
      "Good to go\n",
      "The run is finished\n"
     ]
    }
   ],
   "source": [
    "#3. Write a block of code to handle one of the most common Python exception errors. \n",
    "# Select one of the common errors from the curriculum section on Python Exception handling. \n",
    "# Have your code example uses the `try`,`except`, `else`, and `finally` components.\n",
    "try:\n",
    "    print(\"Hello\")\n",
    "except:\n",
    "    print(\"You messed up\")\n",
    "else:\n",
    "    print(\"Good to go\")\n",
    "finally:\n",
    "    print(\"The run is finished\")"
   ]
  }
 ],
 "metadata": {
  "kernelspec": {
   "display_name": "Python 3",
   "language": "python",
   "name": "python3"
  },
  "language_info": {
   "codemirror_mode": {
    "name": "ipython",
    "version": 3
   },
   "file_extension": ".py",
   "mimetype": "text/x-python",
   "name": "python",
   "nbconvert_exporter": "python",
   "pygments_lexer": "ipython3",
   "version": "3.11.3"
  },
  "orig_nbformat": 4
 },
 "nbformat": 4,
 "nbformat_minor": 2
}
