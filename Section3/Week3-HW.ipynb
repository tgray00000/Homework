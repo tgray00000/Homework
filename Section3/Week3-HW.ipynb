{
 "cells": [
  {
   "attachments": {},
   "cell_type": "markdown",
   "id": "780e7ad5",
   "metadata": {},
   "source": [
    "1. What is an algorithm?<br>\n",
    "    a series of steps to solve a problem at hand\n",
    "2. Variable names may not start with certain characters - name two.<br>\n",
    "    They can not start with a number_\n",
    "3. What is a Semantic error?<br>\n",
    "    code is grammatically correct but doesn't make any sense; it does not produce the expected results\n",
    "4. What is the #1 rule of coding / debugging?<br>\n",
    "    Complexity is the enemy of efficiency!\n",
    "5. List 5 Python reserved words.<br>\n",
    "    True, False, and, finally, break"
   ]
  },
  {
   "cell_type": "code",
   "execution_count": 3,
   "id": "c9e35dab",
   "metadata": {},
   "outputs": [
    {
     "name": "stdout",
     "output_type": "stream",
     "text": [
      "Ti Gray,\n",
      "      Green,\n",
      "      Working for Google\n"
     ]
    }
   ],
   "source": [
    "print(\"\"\"Ti Gray,\n",
    "      Green,\n",
    "      Working for Google\"\"\")"
   ]
  },
  {
   "cell_type": "code",
   "execution_count": 1,
   "id": "03f31c72",
   "metadata": {},
   "outputs": [
    {
     "name": "stdout",
     "output_type": "stream",
     "text": [
      "ringo runaway\n",
      "13\n",
      "a\n"
     ]
    }
   ],
   "source": [
    "myname = \"Tom\" \n",
    "mypet = \"ringo runaway\"\n",
    "my_money = \"funny\"\n",
    "mycar = [\"nissan\", \"Minivan\", \"chevy\"]\n",
    "myphone = 123456\n",
    "print(mypet)\n",
    "print(len(mypet))\n",
    "print(mypet[-4])"
   ]
  },
  {
   "cell_type": "code",
   "execution_count": 15,
   "id": "e52a713c",
   "metadata": {},
   "outputs": [
    {
     "name": "stdout",
     "output_type": "stream",
     "text": [
      "ing Data Analtytics\n",
      "Learning Data Analtytics and Python is great\n",
      "The string contains'Phtyon'.\n"
     ]
    }
   ],
   "source": [
    "savvy =\"Learning Data Analtytics and Python is Awesome\"\n",
    "print(savvy[5:24])\n",
    "print(savvy.replace(\"Awesome\", \"great\"))\n",
    "if \"Python\" in savvy:\n",
    "    print(\"The string contains'Phtyon'.\")\n"
   ]
  },
  {
   "cell_type": "code",
   "execution_count": 39,
   "id": "cb5f5247",
   "metadata": {},
   "outputs": [
    {
     "name": "stdout",
     "output_type": "stream",
     "text": [
      "Hi my name is Ti, I am 69in and 32 old today.\n",
      "age is ... <class 'float'>\n"
     ]
    }
   ],
   "source": [
    "name, age, length = \"Ti\", \"32\", \"69in\"\n",
    "minibio = (f\"Hi my name is {name}, I am {length} and {age} old today.\")\n",
    "print(minibio)\n",
    "age = float(32)\n",
    "print(\"age is ...\", type(age))\n",
    "\n"
   ]
  },
  {
   "attachments": {},
   "cell_type": "markdown",
   "id": "716dcd0a",
   "metadata": {},
   "source": [
    "3.2 HW<BR>\n",
    "Each block is a question"
   ]
  },
  {
   "cell_type": "code",
   "execution_count": 3,
   "id": "01d0dd5d",
   "metadata": {},
   "outputs": [
    {
     "name": "stdout",
     "output_type": "stream",
     "text": [
      "['Goodbye Cruel World', 32, 12.3, range(0, 45), ('apple', 'Bananas', 'pear')]\n",
      "['Goodbye Cruel World', 32, 12.3, range(0, 45), ('apple', 'Bananas', 'pear'), 'Dragon', 'dawrf', 'Gods']\n",
      "The length is ... 8\n",
      "['Goodbye Cruel World', 32, 12.3]\n",
      "sorted numbers ... [3, 15, 17, 19, 21, 30]\n",
      "[3, 15, 17, 19, 21, 30]\n",
      "[['Goodbye Cruel World', 32, 12.3], [3, 15, 17, 19, 21, 30]]\n"
     ]
    }
   ],
   "source": [
    "mylist = [\"Good Morning Vietnam\", 32, 12.3, range(45), (\"apple\",\"Bananas\",\"pear\")]\n",
    "mylist[0] = \"Goodbye Cruel World\"\n",
    "print(mylist)\n",
    "mylist.append(\"Dragon\")\n",
    "mylist.append(\"dawrf\")\n",
    "mylist.append(\"Gods\")\n",
    "print(mylist)\n",
    "print(\"The length is ...\", len(mylist))\n",
    "newlist = mylist[0:3]\n",
    "print(newlist)\n",
    "mylist.extend(newlist)\n",
    "simlist = [3, 19, 17, 15, 21, 30]\n",
    "simlist.sort()\n",
    "print(\"sorted numbers ...\", simlist)\n",
    "thirdlist = simlist.copy()\n",
    "print(thirdlist)\n",
    "fourthlist = [newlist, thirdlist]\n",
    "print(fourthlist)"
   ]
  },
  {
   "cell_type": "code",
   "execution_count": 4,
   "id": "1411278a",
   "metadata": {},
   "outputs": [
    {
     "name": "stdout",
     "output_type": "stream",
     "text": [
      "('head', 'shoulders', 'knees', 'toes', 'eyes', 'head', 'shoulders', 'knees', 'toes', 'eyes', 'head', 'shoulders', 'knees', 'toes', 'eyes')\n",
      "toes\n",
      "['eyes', 'eyes', 'eyes', 'head', 'head', 'head', 'knees', 'knees', 'knees', 'shoulders', 'shoulders', 'shoulders', 'toes', 'toes', 'toes']\n",
      "knees\n",
      "toes\n",
      "eyes\n",
      "head\n",
      "(50,)\n",
      "('head', 'shoulders', 'knees', 'toes', 'eyes', 'head', 'shoulders', 'knees', 'toes', 'eyes', 'head', 'shoulders', 'knees', 'toes', 'eyes', 'knees', 'toes', 'eyes', 'head')\n"
     ]
    }
   ],
   "source": [
    "mytuple = (\"head\", \"shoulders\", \"knees\", \"toes\",  \"eyes\")\n",
    "newtuple = mytuple * 3\n",
    "print(newtuple)\n",
    "print(newtuple[-12])\n",
    "print(sorted(newtuple))\n",
    "thirdtuple = newtuple[2:6]\n",
    "a, b, c, d, = thirdtuple\n",
    "print(a)\n",
    "print(b)\n",
    "print(c)\n",
    "print(d)\n",
    "tupsingle = (50,)\n",
    "print(tupsingle)\n",
    "fifthtup = (newtuple + thirdtuple)\n",
    "print(fifthtup)\n"
   ]
  },
  {
   "cell_type": "code",
   "execution_count": 10,
   "id": "aba8b80b",
   "metadata": {},
   "outputs": [
    {
     "name": "stdout",
     "output_type": "stream",
     "text": [
      "{'green', 'apple', 'pear', 'cherry', 'red', 'blue'}\n",
      "fan\n",
      "{'keys', 'shoes'}\n",
      "set()\n",
      "{'green', 'apple', 'nissan', 'pear', 'shoes', 'fan', 'blue', 'keys'}\n"
     ]
    }
   ],
   "source": [
    "set1 = {\"green\", \"blue\", \"red\"}\n",
    "set1.update([\"pear\", \"apple\", \"cherry\"])\n",
    "print(set1)\n",
    "set1.add(\"nissan\")\n",
    "set2 = {\"fan\",\"shoes\",\"keys\"}\n",
    "set3 = set1.union(set2)\n",
    "test =set2.pop()\n",
    "print( test)\n",
    "print(set2)\n",
    "set1.clear()\n",
    "print(set1)\n",
    "set3.discard(\"red\")\n",
    "set3.remove(\"cherry\")\n",
    "print(set3)"
   ]
  },
  {
   "cell_type": "code",
   "execution_count": 131,
   "id": "bea85657",
   "metadata": {},
   "outputs": [
    {
     "name": "stdout",
     "output_type": "stream",
     "text": [
      "minivan\n",
      "dict_keys(['name', 'age', 'Car', 'phone', 'is_dad', 'car', 'color', 'favorite_foods'])\n",
      "dict_values(['Jimmy john', 32, 'minivan', '123-456-7891', True, 'Ti', 'green', ['pizza', 'ice cream', 'coke']])\n",
      "32\n",
      "{'name': 'Jimmy john', 'Car': 'minivan', 'phone': '123-456-7891', 'is_dad': True, 'car': 'Ti', 'color': 'green', 'favorite_foods': ['pizza', 'ice cream', 'coke']}\n",
      "{}\n"
     ]
    }
   ],
   "source": [
    "mydict ={\n",
    "    \"name\":\"Jimmy john\",\n",
    "    \"age\": 32,\n",
    "    \"Car\": \"minivan\",\n",
    "    \"phone\": \"123-456-7891\",\n",
    "    \"is_dad\": True,\n",
    "}\n",
    "print(mydict[\"Car\"])\n",
    "\n",
    "mydict[\"car\"] = \"Ti\"\n",
    "mydict[\"color\"] = \"green\"\n",
    "mydict[\"favorite_foods\"] = [\"pizza\", \"ice cream\", \"coke\"]\n",
    "\n",
    "print(mydict.keys());\n",
    "\n",
    "print(mydict.values())\n",
    "\n",
    "newdict = mydict.copy()\n",
    "print(newdict.pop(\"age\"))\n",
    "print(newdict)\n",
    "\n",
    "newdict.clear()\n",
    "print(newdict)"
   ]
  }
 ],
 "metadata": {
  "kernelspec": {
   "display_name": "Python 3",
   "language": "python",
   "name": "python3"
  },
  "language_info": {
   "codemirror_mode": {
    "name": "ipython",
    "version": 3
   },
   "file_extension": ".py",
   "mimetype": "text/x-python",
   "name": "python",
   "nbconvert_exporter": "python",
   "pygments_lexer": "ipython3",
   "version": "3.11.3"
  }
 },
 "nbformat": 4,
 "nbformat_minor": 5
}
