{
 "cells": [
  {
   "attachments": {},
   "cell_type": "markdown",
   "metadata": {},
   "source": [
    "1. What does Pandas stand for?<br>\n",
    "> Panel Data\n",
    "2. What are the 2 collections used in Pandas?<br>\n",
    "> Series, DataFrame\n",
    "3. Name 4 things Pandas can do for us.<br>\n",
    "> Data cleansing, Merges and joins, Loading and saving data, Data inspection\n",
    "4. To permanently sort a DataFrame, which keyword should one use with the `df.sort()` method?<br>\n",
    "> It must be assigned to a new variable (new = df.sort())\n",
    "5. What is a CSV\n",
    "> Comma separated files, that contains plain text\n",
    "6. When cleaning data what values do we not like in our data?\n",
    "> Missing Values"
   ]
  },
  {
   "cell_type": "code",
   "execution_count": null,
   "metadata": {},
   "outputs": [],
   "source": [
    "#7.Import NumPy, use one of the NumPy methods and create an array with a shape of ... (2, 3, 2). \n",
    "import numpy as np\n",
    "Array1 = np.ones((2,3,2))\n",
    "Array1\n",
    "#You can use the reshape method -- `.reshape()`\n",
    "newshape1 = np.reshape(Array1, (3,2,2))\n",
    "print(\"New Shape...\", newshape1)"
   ]
  },
  {
   "cell_type": "code",
   "execution_count": null,
   "metadata": {},
   "outputs": [],
   "source": [
    "#8.Use NumPy `.linspace()` to create an array with 6 linearly spaced values between 0 and 20\n",
    "import numpy as np\n",
    "\n",
    "array2 = np.linspace(0,20,6)\n",
    "print(array2)\n",
    "\n",
    "#9. Make a Deep Copy of the above array\n",
    "copied_list = array2.copy()\n",
    "print(\"The Copy....\", copied_list)\n"
   ]
  },
  {
   "cell_type": "code",
   "execution_count": 131,
   "metadata": {},
   "outputs": [
    {
     "name": "stdout",
     "output_type": "stream",
     "text": [
      "[[25 16]\n",
      " [11  2]\n",
      " [13  4]\n",
      " [ 7 81]\n",
      " [ 5  6]\n",
      " [11 12]]\n",
      "sorted... [[16 25]\n",
      " [ 2 11]\n",
      " [ 4 13]\n",
      " [ 7 81]\n",
      " [ 5  6]\n",
      " [11 12]]\n"
     ]
    }
   ],
   "source": [
    "#11.Concatenate these 3 arrays into a new array named 'newArray'\n",
    "import numpy as np\n",
    "\n",
    "arraya = np.array([[25, 16]])\n",
    "arrayb = np.array([[11, 2], [13, 4]])\n",
    "arrayc = np.array([[7, 81], [5, 6], [11, 12]])\n",
    "\n",
    "newArray = np.concatenate((arraya,arrayb,arrayc))\n",
    "print(newArray)\n",
    "\n",
    "#12. Sort 'newArray' in order into 'sortedArray'\n",
    "sortedarray = np.sort(newArray)\n",
    "print(\"sorted...\", sortedarray)"
   ]
  },
  {
   "cell_type": "code",
   "execution_count": 143,
   "metadata": {},
   "outputs": [
    {
     "name": "stdout",
     "output_type": "stream",
     "text": [
      "[[16 25  2 11  4 13]\n",
      " [ 7 81  5  6 11 12]]\n"
     ]
    }
   ],
   "source": [
    "#13.Reshape the 'sortedArray' array, into a new array called 'reshapedArray', so it has 2 dimensions with a size of 2, 3.\n",
    "import numpy as np\n",
    "\n",
    "newshape3 = np.reshape(sortedarray, (2,-3))\n",
    "print(newshape3)\n",
    "\n",
    "#14.Unpack the array tuples from the above 'reshapedArray'  into 4 well named variables. Print the 4 variables.\n",
    "#newshape3\n",
    "#a,b,c,d = newshape3\n",
    "#got an error that says not enough values to unpack\n",
    "\n"
   ]
  },
  {
   "cell_type": "code",
   "execution_count": null,
   "metadata": {},
   "outputs": [],
   "source": [
    "#15.Combined and sort the following arrays into one called 'comboArray' ...\n",
    "import numpy as np\n",
    "\n",
    "one = ([10, 11, 12, 13, 14, 15, 16, 17])\n",
    "two = ([20, 21, 22, 23, 24, 25, 26, 27])\n",
    "three = ([ 0, 1, 2, 3, 4, 5, 6, 7])\n",
    "\n",
    "comboarray = np.concatenate((one, two, three))\n",
    "comboarraysorted = np.sort(comboarray)\n",
    "print(\"final...\", comboarraysorted)\n",
    "\n",
    "#16.Take 'comboArray' and perform the following slicing activities:\n",
    "print(\"2nd element...\", comboarraysorted[1])\n",
    "print(\"3rd element to the last\", comboarraysorted[2:24])\n",
    "print(\"4th to the 14th elements\", comboarraysorted[4:15])\n",
    "print(\"last 6 elements\", comboarraysorted[-6:])\n",
    "print(\"from #0 up to and including #15\", comboarraysorted[0:-10])\n",
    "print(\"from #20 every even element to the end...\", comboarraysorted[[-8,-6,-4,-2]])\n",
    "print(\"from the last element moving forward every 5th element...\", comboarraysorted[[-1,-6,-11,-16,-21]])"
   ]
  },
  {
   "cell_type": "code",
   "execution_count": null,
   "metadata": {},
   "outputs": [],
   "source": [
    "#20.Using `Series`, create a `DataFrame` that looks like this:\n",
    "import pandas as pd\n",
    "\n",
    "ingredients = pd.Series([\"flour\",\"milk\",\"eggs\",\"spam\"], name='Ingredients')\n",
    "quantity = pd.Series([4,1,2,1], name='quantity')\n",
    "unit = pd.Series([\"cups\",\"cup\",\"large\",\"can\"], name='Unit')\n",
    "\n",
    "dinner = pd.concat([ingredients,quantity,unit], axis=1)\n",
    "dinner\n",
    "\n",
    "#Ingredients | Quantity | Unit |\n",
    "#Flour | 4 | cups |\n",
    "#Milk | 1 | cup |\n",
    "#Eggs | 2 | large |\n",
    "#Spam | 1 | can |\n",
    "# Name: Dinner, dtype: object"
   ]
  },
  {
   "cell_type": "code",
   "execution_count": null,
   "metadata": {},
   "outputs": [],
   "source": [
    "#21.Take this data and create a DataFrame named studentData\n",
    "import pandas as pd\n",
    "\n",
    "Name = pd.Series([\"Jai\",\"Janusha\",\"Gaurav\",\"Anuj\"], name=\"Name\")\n",
    "Height = pd.Series([5.1,6.2,5.1,5.2], name='Height')\n",
    "Qualification = pd.Series(['Msc', 'MA', 'Msc', 'Msc'], name='Qualification')\n",
    "address = pd.Series(['Delhi', 'Doha', 'Chennai', 'Dakhar'], name='Address')\n",
    "Age = pd.Series([21, 23, 24, 21], name='Age')\n",
    "Pets = pd.Series(['Dog', 'Bunny', 'Chinchilla', 'Parrot'], name='Pets')\n",
    "sport = pd.Series(['Darts', 'Basketball', 'PaddleBoarding', 'Cricket'], name='Sports')\n",
    "\n",
    "studentdata = pd.concat([Name,Height,Qualification,address,Age,Pets,sport], axis=1)\n",
    "#print(studentdata)\n",
    "\n",
    "#22.Add a new column to the DataFrame with the following deserts:\n",
    "studentdata =studentdata.assign(Desserts =[\"ice cream\", \"Cashew Fudge\", \"waffels\", \"Carrot Halwa\"])\n",
    "#studentdata\n",
    "\n",
    "#23. Sort the 'studentData' DataFrame in Ascending order -- Sorting by column 'Name' and then \"address\"\n",
    "studentdata.sort_values(by = ['Name','Address'], \n",
    "                        ascending = [True, True], inplace= True)\n",
    "print(studentdata)\n"
   ]
  },
  {
   "cell_type": "code",
   "execution_count": 114,
   "metadata": {},
   "outputs": [],
   "source": [
    "#24. Save this `DataFrame` here below to disc as a `.CSV` file with the name `cows_and_goats.csv`:\n",
    "import pandas as pd\n",
    "\n",
    "df = pd.DataFrame({'Cows': [12, 20], 'Goats': [22, 19]}, index=['Year 1', 'Year 2'])\n",
    "df.to_csv('Cows_and_Goats.csv')\n",
    "\n",
    "#25.(A) Using Pandas, make your own .CSV file with data on vegetables and save it.\n",
    "Veggies = pd.DataFrame([[\"green\",\"prepper\"],[\"Red\",\"tomatoe\"],[\"white\",\"onion\"]],\n",
    "                        columns= [\"Color\",\"Vegetables\"])\n",
    "#Veggies \n",
    "Veggies.to_csv('Veggie_tales.csv')\n",
    "#(B) Using Pandas, make a change to your CSV file, and save a copy with a different name.\n",
    "Veggies2 = Veggies.assign(Farm =[\"Sonnys\",\"Beans\",\"hugo\"])\n",
    "#Veggies2\n",
    "Veggies2.to_csv('talesofveggie.csv')"
   ]
  }
 ],
 "metadata": {
  "kernelspec": {
   "display_name": "Python 3",
   "language": "python",
   "name": "python3"
  },
  "language_info": {
   "codemirror_mode": {
    "name": "ipython",
    "version": 3
   },
   "file_extension": ".py",
   "mimetype": "text/x-python",
   "name": "python",
   "nbconvert_exporter": "python",
   "pygments_lexer": "ipython3",
   "version": "3.11.3"
  },
  "orig_nbformat": 4
 },
 "nbformat": 4,
 "nbformat_minor": 2
}
